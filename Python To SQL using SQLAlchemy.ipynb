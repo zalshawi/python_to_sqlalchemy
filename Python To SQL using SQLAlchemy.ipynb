{
 "cells": [
  {
   "cell_type": "markdown",
   "id": "95568041-7565-4b52-9d66-d77f6dcf352d",
   "metadata": {
    "tags": []
   },
   "source": [
    "# Python & SQL: Connecting Data with SQLAlchemy"
   ]
  },
  {
   "cell_type": "markdown",
   "id": "882665fd",
   "metadata": {},
   "source": [
    "## Introduction\n",
    "Welcome to tutorial on connecting Python to SQL databases using SQLAlchemy. In this guide, I'll walk you through the process of establishing connections, creating data models, and executing queries. By the end, you'll be equipped to seamlessly handle data between Python and SQL environments."
   ]
  },
  {
   "cell_type": "markdown",
   "id": "934ce770",
   "metadata": {},
   "source": [
    "<div style=\"text-align:center;\">\n",
    "    <img src=\"python+sql.png\" alt=\"python+sql\" style=\"display:block; margin:auto;\" width=\"750\"/>\n",
    "</div>\n"
   ]
  },
  {
   "cell_type": "markdown",
   "id": "2460a461-2ffa-4bea-83dc-3800d58dfe8c",
   "metadata": {
    "jp-MarkdownHeadingCollapsed": true,
    "tags": []
   },
   "source": [
    "## Setting Up the Environment"
   ]
  },
  {
   "cell_type": "markdown",
   "id": "694c9df9-5e06-42bc-be6b-f1a2aa0f1f50",
   "metadata": {},
   "source": [
    "For this tutorial, make sure you have the following Python packages installed:\n",
    "- `pandas`\n",
    "- `sqlalchemy`\n",
    "\n",
    "You can install them using pip:"
   ]
  },
  {
   "cell_type": "code",
   "execution_count": null,
   "id": "89b70a61-8bfc-4780-a137-3ca0a03e13f5",
   "metadata": {},
   "outputs": [],
   "source": [
    "!pip install pandas sqlalchemy"
   ]
  },
  {
   "cell_type": "markdown",
   "id": "5959a22e-3c74-48d9-8bdc-e0acb4ae74b7",
   "metadata": {},
   "source": [
    "Import Required Libraries"
   ]
  },
  {
   "cell_type": "code",
   "execution_count": null,
   "id": "95884667-bd6b-4d02-825d-98397690f413",
   "metadata": {},
   "outputs": [],
   "source": [
    "import pandas as pd\n",
    "import numpy as np\n",
    "from datetime import datetime, timedelta\n",
    "from sqlalchemy import create_engine, Column, Integer, String, Float, DateTime, ForeignKey, Index, select\n",
    "from sqlalchemy.orm import declarative_base, relationship, Session"
   ]
  },
  {
   "cell_type": "markdown",
   "id": "d4a477c2-f9bb-4d59-97d2-61dd65fc0600",
   "metadata": {
    "jp-MarkdownHeadingCollapsed": true,
    "tags": []
   },
   "source": [
    "## Prepare dataset"
   ]
  },
  {
   "cell_type": "code",
   "execution_count": null,
   "id": "f636ad92-d3e7-4de3-bfa0-b9ebeda0b9bc",
   "metadata": {},
   "outputs": [],
   "source": [
    "# Skip this part if you have your dataframe is ready\n",
    "class EcommerceDataGenerator:\n",
    "    def __init__(self):\n",
    "        self.categories = [('Smartphones', 2), ('Smartwatch', 2), ('Accessories', 1)]  # Adjust frequencies as needed\n",
    "\n",
    "    def generate_customer_data(self, num_customers):\n",
    "        customers = pd.DataFrame({\n",
    "            'customer_id': range(1, num_customers + 1),\n",
    "            'name': [f'Customer{i}' for i in range(1, num_customers + 1)],\n",
    "            'email': [f'customer{i}@example.com' for i in range(1, num_customers + 1)]\n",
    "        })\n",
    "        return customers\n",
    "\n",
    "    def generate_products(self, num_products):\n",
    "        categories = self.categories.copy()\n",
    "        products = []\n",
    "\n",
    "        while num_products > 0:\n",
    "            for category, _ in categories:\n",
    "                if num_products == 0:\n",
    "                    break\n",
    "                products.append({'category': category})\n",
    "                num_products -= 1\n",
    "\n",
    "        prices = [self._generate_price(product['category']) for product in products]\n",
    "        products = pd.DataFrame({\n",
    "            'product_id': range(1, len(products) + 1),\n",
    "            'name': [f'Product{j}' for j in range(1, len(products) + 1)],\n",
    "            'price': prices,\n",
    "            'category': [product['category'] for product in products]\n",
    "        })\n",
    "        return products\n",
    "\n",
    "    def _generate_price(self, category):\n",
    "        if category == 'Smartphones':\n",
    "            return np.round(np.random.uniform(1500, 5000), 1)\n",
    "        elif category == 'Smartwatch':\n",
    "            return np.round(np.random.uniform(700, 3200), 1)\n",
    "        else:\n",
    "            return np.round(np.random.uniform(100, 200), 1)\n",
    "\n",
    "    def generate_orders(self, customers, products):\n",
    "        orders = []\n",
    "        for customer_id in customers['customer_id']:\n",
    "            num_orders = np.random.randint(1, 5)  \n",
    "            for _ in range(num_orders):\n",
    "                order_date = (datetime.now() - timedelta(days=np.random.randint(1, 365),\n",
    "                                                      seconds=np.random.randint(0, 86400)))\n",
    "                product_id = np.random.randint(1, len(products) + 1)\n",
    "                orders.append({\n",
    "                    'customer_id': customer_id,\n",
    "                    'product_id': product_id,\n",
    "                    'quantity': np.random.randint(3, 50),\n",
    "                    'order_date': order_date\n",
    "                })\n",
    "\n",
    "        orders = pd.DataFrame(orders)\n",
    "        return orders\n",
    "\n",
    "    def generate_sample_data(self, num_customers, num_products):\n",
    "        customers = self.generate_customer_data(num_customers)\n",
    "        products = self.generate_products(num_products)\n",
    "        orders = self.generate_orders(customers, products)\n",
    "        return customers, products, orders\n",
    "\n",
    "# Example usage:\n",
    "ecommerce_generator = EcommerceDataGenerator()\n",
    "customers, products, orders = ecommerce_generator.generate_sample_data(100, 7)"
   ]
  },
  {
   "cell_type": "code",
   "execution_count": null,
   "id": "36fe5191-a4f1-43e4-a92b-dd43ad2f6989",
   "metadata": {
    "tags": []
   },
   "outputs": [],
   "source": [
    "customers"
   ]
  },
  {
   "cell_type": "markdown",
   "id": "e88945ba-02a6-43f8-ae82-2ca82136cb3c",
   "metadata": {
    "jp-MarkdownHeadingCollapsed": true,
    "tags": []
   },
   "source": [
    "## Define the Database Structure"
   ]
  },
  {
   "cell_type": "code",
   "execution_count": null,
   "id": "dd587a82-2d7b-42d3-9e65-ea2040f7fd27",
   "metadata": {},
   "outputs": [],
   "source": [
    "# Define data models using SQLAlchemy's declarative_base\n",
    "Base = declarative_base()\n",
    "\n",
    "# Customer data model\n",
    "class Customer(Base):\n",
    "    __tablename__ = 'customers'\n",
    "    customer_id = Column(Integer, primary_key=True)\n",
    "    name = Column(String)\n",
    "    email = Column(String)\n",
    "    # define idx_customer_id as table index\n",
    "    __table_args__ = (Index('idx_customer_id', 'customer_id'),)\n",
    "\n",
    "# Product data model\n",
    "class Product(Base):\n",
    "    __tablename__ = 'products'\n",
    "    product_id = Column(Integer, primary_key=True)\n",
    "    name = Column(String)\n",
    "    price = Column(Float)\n",
    "    category = Column(String)\n",
    "    # define idx_product_id as table index\n",
    "    __table_args__ = (Index('idx_product_id', 'product_id'),)\n",
    "\n",
    "# Order data model\n",
    "class Order(Base):\n",
    "    __tablename__ = 'orders'\n",
    "    order_id = Column(Integer, primary_key=True)\n",
    "    customer_id = Column(Integer, ForeignKey('customers.customer_id'))\n",
    "    product_id = Column(Integer, ForeignKey('products.product_id'))\n",
    "    quantity = Column(Integer)\n",
    "    order_date = Column(DateTime, default=datetime.now)\n",
    "    # define idx_order_id as table index\n",
    "    __table_args__ = (Index('idx_order_id', 'order_id'),)\n",
    "\n",
    "    # Define relationships\n",
    "    customer = relationship(\"Customer\", back_populates=\"orders\")\n",
    "    product = relationship(\"Product\", back_populates=\"orders\")\n",
    "\n",
    "# Define relationships for Customer and Product models\n",
    "Customer.orders = relationship(\"Order\", order_by=Order.order_id, back_populates=\"customer\")\n",
    "Product.orders = relationship(\"Order\", order_by=Order.order_id, back_populates=\"product\")\n"
   ]
  },
  {
   "cell_type": "markdown",
   "id": "a11e96a1-c861-4462-9eb3-29a35bb1ab07",
   "metadata": {
    "tags": []
   },
   "source": [
    "## Generate Database"
   ]
  },
  {
   "cell_type": "markdown",
   "id": "4c1325fa",
   "metadata": {},
   "source": [
    "#### Using SQLite"
   ]
  },
  {
   "cell_type": "code",
   "execution_count": null,
   "id": "ecabecfb-a0c2-4fb8-ab6b-bb7216b8ac03",
   "metadata": {
    "tags": []
   },
   "outputs": [],
   "source": [
    "engine_sqlite = create_engine('sqlite:///ecommerce.db', echo=True, future=True)\n",
    "Base.metadata.create_all(engine_sqlite)"
   ]
  },
  {
   "cell_type": "markdown",
   "id": "58917c1c",
   "metadata": {},
   "source": [
    "#### Using SQL Server"
   ]
  },
  {
   "cell_type": "code",
   "execution_count": null,
   "id": "fd883236",
   "metadata": {},
   "outputs": [],
   "source": [
    "import urllib\n",
    "\n",
    "params = urllib.parse.quote_plus(f'DRIVER=ODBC Driver 17 for SQL Server;SERVER={server};DATABASE={database};UID={username};PWD={password}')\n",
    "\n",
    "engine_mssql = create_engine(f'mssql+pyodbc:///?odbc_connect={params}', echo=True, future=True)\n",
    "\n",
    "Base.metadata.create_all(engine_mssql)"
   ]
  },
  {
   "cell_type": "code",
   "execution_count": null,
   "id": "35c6aad3",
   "metadata": {},
   "outputs": [],
   "source": [
    "#  # Load credentials\n",
    "# from cryptography.fernet import Fernet\n",
    "# import json\n",
    "\n",
    "# # Secret Key and Credential Loading\n",
    "# with open('secret.key', 'rb') as key_file:\n",
    "#     key = key_file.read()\n",
    "\n",
    "# fernet = Fernet(key)\n",
    "\n",
    "# # Load and decrypt the credentials\n",
    "# with open('credentials.encrypted', 'rb') as encrypted_file:\n",
    "#     encrypted_credentials = encrypted_file.read()\n",
    "#     decrypted_credentials = fernet.decrypt(encrypted_credentials)\n",
    "\n",
    "# # Convert back from JSON\n",
    "# credentials = json.loads(decrypted_credentials.decode())\n",
    "\n",
    "# # Access credentials\n",
    "# server = credentials['server']\n",
    "# database = credentials['database']\n",
    "# username = credentials['username']\n",
    "# password = credentials['password']"
   ]
  },
  {
   "cell_type": "markdown",
   "id": "0fd7942d-0d19-4f2e-b0ec-3d23246a367b",
   "metadata": {
    "tags": []
   },
   "source": [
    "## Ingest Data to SQL"
   ]
  },
  {
   "cell_type": "code",
   "execution_count": null,
   "id": "1218244b-1614-430f-9a85-cc3c6a3d7917",
   "metadata": {
    "tags": []
   },
   "outputs": [],
   "source": [
    "def add_data_to_database(session, customers, products, orders):\n",
    "    # Add customers\n",
    "    for idx, row in customers.iterrows():\n",
    "        customer = Customer(customer_id=row['customer_id'], name=row['name'], email=row['email'])\n",
    "        session.add(customer)\n",
    "\n",
    "    # Add products\n",
    "    for idx, row in products.iterrows():\n",
    "        product = Product(product_id=row['product_id'], name=row['name'], price=row['price'], category=row['category'])\n",
    "        session.add(product)\n",
    "\n",
    "    # Add orders\n",
    "    for idx, row in orders.iterrows():\n",
    "        order = Order(order_id=idx + 1, customer_id=row['customer_id'], product_id=row['product_id'], quantity=row['quantity'], order_date=row['order_date'])\n",
    "        session.add(order)\n",
    "\n",
    "    session.commit()\n",
    "    \n",
    "    \n",
    "with Session(engine_sqlite) as session:\n",
    "    add_data_to_database(session, customers, products, orders)\n",
    "\n",
    "with Session(engine_mssql) as session:\n",
    "    add_data_to_database(session, customers, products, orders)"
   ]
  },
  {
   "cell_type": "markdown",
   "id": "c883099d-381e-4587-9e8c-73fdcc417598",
   "metadata": {
    "jp-MarkdownHeadingCollapsed": true,
    "tags": []
   },
   "source": [
    "## Extract Data from SQLAlchemy"
   ]
  },
  {
   "cell_type": "code",
   "execution_count": null,
   "id": "786bca81-5d9b-4839-b063-5cafca9cbd2d",
   "metadata": {},
   "outputs": [],
   "source": [
    "# Extract data from SQL\n",
    "def fetch_data():\n",
    "    stmt = select(Order.order_id, Order.quantity, Order.order_date,\n",
    "                  Product.name.label('product_name'), Product.price,\n",
    "                  Customer.name.label('customer_name')).\\\n",
    "        join(Product, Order.product_id == Product.product_id).\\\n",
    "        join(Customer, Order.customer_id == Customer.customer_id)\n",
    "\n",
    "    results = session.execute(stmt).fetchall()\n",
    "    session.close()\n",
    "\n",
    "    data = pd.DataFrame(results, columns=['order_id', 'quantity', 'order_date', 'product_name', 'price', 'customer_name'])\n",
    "    return data\n",
    "\n",
    "data = fetch_data()"
   ]
  },
  {
   "cell_type": "code",
   "execution_count": null,
   "id": "cec22b22-c4aa-4eb9-be9d-e88625863661",
   "metadata": {
    "tags": []
   },
   "outputs": [],
   "source": [
    "data.head()"
   ]
  },
  {
   "cell_type": "code",
   "execution_count": null,
   "id": "9f7c14c2-f1c8-4d5b-8015-40cabea6bc50",
   "metadata": {},
   "outputs": [],
   "source": [
    "# Calculate total sales per product\n",
    "data['total_sales'] = data['quantity'] * data['price']\n",
    "sales_per_product = data.groupby('product_name')['total_sales'].sum().sort_values(ascending=False)"
   ]
  },
  {
   "cell_type": "code",
   "execution_count": null,
   "id": "83c8bd1a-f45b-4ef1-ab9d-7b0e6bea7884",
   "metadata": {},
   "outputs": [],
   "source": [
    "import matplotlib.pyplot as plt\n",
    "\n",
    "# Plot total sales per product\n",
    "plt.figure(figsize=(12, 6))\n",
    "sales_per_product.plot(kind='bar', color='skyblue')\n",
    "plt.title('Total Sales Per Product')\n",
    "plt.xlabel('')\n",
    "plt.xticks(rotation=45)\n",
    "plt.ylabel('Total Sales')\n",
    "plt.show()\n"
   ]
  },
  {
   "cell_type": "markdown",
   "id": "78ccf66d-87a2-448a-91b9-22d29d5e3c0b",
   "metadata": {
    "tags": []
   },
   "source": [
    "## Ending"
   ]
  },
  {
   "cell_type": "markdown",
   "id": "c4740cbd-373b-4306-a6dd-4871765aff3d",
   "metadata": {
    "jp-MarkdownHeadingCollapsed": true,
    "tags": []
   },
   "source": [
    "### SQLAlchemy Architecture"
   ]
  },
  {
   "cell_type": "markdown",
   "id": "d00c93ce-0413-48c6-a7a7-10179f68e144",
   "metadata": {},
   "source": [
    "<div style=\"text-align:center;\">\n",
    "    <img src=\"SQLAlchemy_Architecture.png\" alt=\"SQLAlchemy_Architecture\" style=\"display:block; margin:auto;\" width=\"400\"/>\n",
    "    <p style=\"text-align: center;\">Credit: <a href=\"link_to_source\">The Architecture of SQLAlchemy</a></p>\n",
    "</div>\n"
   ]
  },
  {
   "cell_type": "markdown",
   "id": "be692534-5e71-491b-9ee3-5f7b9ed4a2f6",
   "metadata": {
    "tags": []
   },
   "source": [
    "### Sources\n",
    "- [SQLAlchemy 2.0 Documentation](https://docs.sqlalchemy.org/en/20/)\n",
    "- [Creating a database using Python and SQLAlchemy](https://medium.com/@sandyjtech/creating-a-database-using-python-and-sqlalchemy-422b7ba39d7e)\n"
   ]
  },
  {
   "cell_type": "markdown",
   "id": "ad0a0257-351b-4e8f-a7f2-87cb827fd50e",
   "metadata": {
    "tags": []
   },
   "source": [
    "### Created BY: [![LinkedIn](https://img.shields.io/badge/-Ziyad_Alshawi-blue?style=flat&logo=LinkedIn)](https://www.linkedin.com/in/zalshawi)"
   ]
  }
 ],
 "metadata": {
  "kernelspec": {
   "display_name": "Python 3 (ipykernel)",
   "language": "python",
   "name": "python3"
  },
  "language_info": {
   "codemirror_mode": {
    "name": "ipython",
    "version": 3
   },
   "file_extension": ".py",
   "mimetype": "text/x-python",
   "name": "python",
   "nbconvert_exporter": "python",
   "pygments_lexer": "ipython3",
   "version": "3.12.2"
  }
 },
 "nbformat": 4,
 "nbformat_minor": 5
}
